{
 "cells": [
  {
   "cell_type": "code",
   "execution_count": null,
   "metadata": {},
   "outputs": [
    {
     "name": "stdout",
     "output_type": "stream",
     "text": [
      "✔️ pzl_1_001_back.jpg verarbeitet und gespeichert nach pzl_1_001_back.jpg\n",
      "✔️ pzl_1_001_front.jpg verarbeitet und gespeichert nach pzl_1_001_front.jpg\n",
      "✔️ pzl_1_002_back.jpg verarbeitet und gespeichert nach pzl_1_002_back.jpg\n",
      "✔️ pzl_1_002_front.jpg verarbeitet und gespeichert nach pzl_1_002_front.jpg\n",
      "✔️ pzl_1_003_back.jpg verarbeitet und gespeichert nach pzl_1_003_back.jpg\n",
      "✔️ pzl_1_003_front.jpg verarbeitet und gespeichert nach pzl_1_003_front.jpg\n",
      "✔️ pzl_1_004_back.jpg verarbeitet und gespeichert nach pzl_1_004_back.jpg\n",
      "✔️ pzl_1_004_front.jpg verarbeitet und gespeichert nach pzl_1_004_front.jpg\n",
      "✔️ pzl_1_full_back.jpg verarbeitet und gespeichert nach pzl_1_full_back.jpg\n",
      "✔️ pzl_1_full_front.jpg verarbeitet und gespeichert nach pzl_1_full_front.jpg\n"
     ]
    }
   ],
   "source": [
    "from pathlib import Path\n",
    "import cv2\n",
    "import os\n",
    "\n",
    "source_dir = Path(\"../data/pzl_1\")\n",
    "target_dir = Path(\"../data/pzl_1_processed\")\n",
    "target_dir.mkdir(parents=True, exist_ok=True)\n",
    "target_size = (256, 256)\n",
    "\n",
    "def center_crop_to_square(image):\n",
    "    \"\"\"Zentriertes quadratisches Zuschneiden des Bildes\"\"\"\n",
    "    h, w = image.shape[:2]\n",
    "    min_dim = min(h, w)\n",
    "    start_x = (w - min_dim) // 2\n",
    "    start_y = (h - min_dim) // 2\n",
    "    return image[start_y:start_y + min_dim, start_x:start_x + min_dim]\n",
    "\n",
    "for img_path in sorted(source_dir.glob(\"*.jpg\")):\n",
    "    img = cv2.imread(str(img_path))\n",
    "    if img is None:\n",
    "        print(f\"⚠️ Fehler beim Laden: {img_path.name}\")\n",
    "        continue\n",
    "    cropped = center_crop_to_square(img)\n",
    "    resized = cv2.resize(cropped, target_size, interpolation=cv2.INTER_AREA)\n",
    "\n",
    "    output_path = target_dir / img_path.name\n",
    "    cv2.imwrite(str(output_path), resized)\n",
    "    print(f\"✔️ {img_path.name} verarbeitet und gespeichert nach {output_path.name}\")\n"
   ]
  }
 ],
 "metadata": {
  "kernelspec": {
   "display_name": ".venv",
   "language": "python",
   "name": "python3"
  },
  "language_info": {
   "codemirror_mode": {
    "name": "ipython",
    "version": 3
   },
   "file_extension": ".py",
   "mimetype": "text/x-python",
   "name": "python",
   "nbconvert_exporter": "python",
   "pygments_lexer": "ipython3",
   "version": "3.13.3"
  }
 },
 "nbformat": 4,
 "nbformat_minor": 5
}
