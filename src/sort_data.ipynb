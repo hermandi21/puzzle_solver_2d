{
 "cells": [
  {
   "cell_type": "code",
   "execution_count": 9,
   "metadata": {},
   "outputs": [
    {
     "name": "stdout",
     "output_type": "stream",
     "text": [
      "Originalgröße: (4640, 3472, 3), Cropgröße: (2864, 2178, 3), Resize: (194, 256)\n",
      "✔️ pzl_3_001_back.jpg verarbeitet und gespeichert nach ../data/pzl_3_processed/pzl_3_001_back.jpg\n",
      "Originalgröße: (4640, 3472, 3), Cropgröße: (1273, 1302, 3), Resize: (256, 250)\n",
      "✔️ pzl_3_001_front.jpg verarbeitet und gespeichert nach ../data/pzl_3_processed/pzl_3_001_front.jpg\n",
      "Originalgröße: (4640, 3472, 3), Cropgröße: (2866, 2120, 3), Resize: (189, 256)\n",
      "✔️ pzl_3_002_back.jpg verarbeitet und gespeichert nach ../data/pzl_3_processed/pzl_3_002_back.jpg\n",
      "Originalgröße: (4640, 3472, 3), Cropgröße: (1008, 1644, 3), Resize: (256, 156)\n",
      "✔️ pzl_3_002_front.jpg verarbeitet und gespeichert nach ../data/pzl_3_processed/pzl_3_002_front.jpg\n",
      "Originalgröße: (4640, 3472, 3), Cropgröße: (2737, 2387, 3), Resize: (223, 256)\n",
      "✔️ pzl_3_003_back.jpg verarbeitet und gespeichert nach ../data/pzl_3_processed/pzl_3_003_back.jpg\n",
      "Originalgröße: (4640, 3472, 3), Cropgröße: (1380, 1468, 3), Resize: (256, 240)\n",
      "✔️ pzl_3_003_front.jpg verarbeitet und gespeichert nach ../data/pzl_3_processed/pzl_3_003_front.jpg\n",
      "Originalgröße: (4640, 3472, 3), Cropgröße: (2714, 2404, 3), Resize: (226, 256)\n",
      "✔️ pzl_3_004_back.jpg verarbeitet und gespeichert nach ../data/pzl_3_processed/pzl_3_004_back.jpg\n",
      "Originalgröße: (4640, 3472, 3), Cropgröße: (975, 1533, 3), Resize: (256, 162)\n",
      "✔️ pzl_3_004_front.jpg verarbeitet und gespeichert nach ../data/pzl_3_processed/pzl_3_004_front.jpg\n",
      "Originalgröße: (4640, 3472, 3), Cropgröße: (3350, 2879, 3), Resize: (220, 256)\n",
      "✔️ pzl_3_full_back.jpg verarbeitet und gespeichert nach ../data/pzl_3_processed/pzl_3_full_back.jpg\n",
      "Originalgröße: (4640, 3472, 3), Cropgröße: (2097, 2120, 3), Resize: (256, 253)\n",
      "✔️ pzl_3_full_front.jpg verarbeitet und gespeichert nach ../data/pzl_3_processed/pzl_3_full_front.jpg\n"
     ]
    }
   ],
   "source": [
    "from pathlib import Path\n",
    "import cv2\n",
    "import numpy as np\n",
    "import os\n",
    "\n",
    "source_dir = Path(\"../data/pzl_3\")\n",
    "target_dir = Path(\"../data/pzl_3_processed\")\n",
    "target_dir.mkdir(parents=True, exist_ok=True)\n",
    "target_size = (256, 256)\n",
    "\n",
    "def crop_and_pad_to_square(image, output_size=(256, 256), threshold=90):\n",
    "    \"\"\"Beschneidet das Objekt im Bild (weißem Hintergrund) und zentriert es auf einem quadratischen Canvas\"\"\"\n",
    "    gray = cv2.cvtColor(image, cv2.COLOR_BGR2GRAY)\n",
    "    _, mask = cv2.threshold(gray, threshold, 255, cv2.THRESH_BINARY_INV)\n",
    "    coords = cv2.findNonZero(mask)\n",
    "    if coords is None:\n",
    "        return cv2.resize(image, output_size)  # kein Objekt erkannt\n",
    "\n",
    "    x, y, w, h = cv2.boundingRect(coords)\n",
    "    cropped = image[y:y+h, x:x+w]\n",
    "\n",
    "    # Resizing mit Seitenverhältnis\n",
    "    aspect_ratio = w / h\n",
    "    if aspect_ratio > 1:  # breiter als hoch\n",
    "        new_w = output_size[0]\n",
    "        new_h = int(output_size[1] / aspect_ratio)\n",
    "    else:\n",
    "        new_h = output_size[1]\n",
    "        new_w = int(output_size[0] * aspect_ratio)\n",
    "    \n",
    "    resized = cv2.resize(cropped, (new_w, new_h), interpolation=cv2.INTER_LANCZOS4)\n",
    "\n",
    "    # Zentriert auf weißem Hintergrund einfügen\n",
    "    result = np.full((output_size[1], output_size[0], 3), 255, dtype=np.uint8)\n",
    "    x_offset = (output_size[0] - new_w) // 2\n",
    "    y_offset = (output_size[1] - new_h) // 2\n",
    "    result[y_offset:y_offset+new_h, x_offset:x_offset+new_w] = resized\n",
    "    print(f\"Originalgröße: {image.shape}, Cropgröße: {cropped.shape}, Resize: ({new_w}, {new_h})\")\n",
    "\n",
    "    return result\n",
    "\n",
    "for img_path in sorted(source_dir.glob(\"*.jpg\")):\n",
    "    img = cv2.imread(str(img_path))\n",
    "    if img is None:\n",
    "        print(f\" Fehler beim Laden: {img_path.name}\")\n",
    "        continue\n",
    "    \n",
    "    cropped = crop_and_pad_to_square(img)\n",
    "    processed = cv2.resize(cropped, target_size, interpolation=cv2.INTER_AREA)\n",
    "\n",
    "    # Speichere die Datei im Zielordner mit dem gleichen Namen\n",
    "    target_file = target_dir / img_path.name\n",
    "    cv2.imwrite(str(target_file), processed)\n",
    "\n",
    "    print(f\"✔️ {img_path.name} verarbeitet und gespeichert nach {target_file}\")"
   ]
  }
 ],
 "metadata": {
  "kernelspec": {
   "display_name": ".venv",
   "language": "python",
   "name": "python3"
  },
  "language_info": {
   "codemirror_mode": {
    "name": "ipython",
    "version": 3
   },
   "file_extension": ".py",
   "mimetype": "text/x-python",
   "name": "python",
   "nbconvert_exporter": "python",
   "pygments_lexer": "ipython3",
   "version": "3.13.3"
  }
 },
 "nbformat": 4,
 "nbformat_minor": 5
}
